{
 "cells": [
  {
   "cell_type": "markdown",
   "metadata": {},
   "source": [
    "# Notebook 3: Operaciones de Administración de Base de Datos relacional"
   ]
  },
  {
   "cell_type": "markdown",
   "metadata": {},
   "source": [
    "En el ciclo de vida de una base de datos relacional, a menudo el administrador de la BD tiene que realizar ciertas operaciones de mantención. Mencionamos en particular:\n",
    "\n",
    "1- Realizar una copia de seguridad de los datos\n",
    "\n",
    "2- Crear usuarios y definir permisos de acceso a la BD\n",
    "\n",
    "3- Modificar la estructura de la BD\n",
    "\n",
    "4- Agregar restricciones o reglas de integridad sobre la estructura de los datos"
   ]
  },
  {
   "cell_type": "markdown",
   "metadata": {},
   "source": [
    "## Ejercicio 1: Crear una BD de prueba básica"
   ]
  },
  {
   "cell_type": "markdown",
   "metadata": {},
   "source": [
    "Para realizar los ejercicios siguientes, primero vamos a crear una BD de prueba básica, llamada \"Valdivia\". Esta base de datos está constituida por 3 tablas:\n",
    "\n",
    "- PERSONA(pk_RUT, Nombre, Edad)   (ej.: \"1, Juan, 20\")\n",
    "\n",
    "- LUGAR_DE_INTERES(pk_Lugar, Descripcion, Categoria, Latitud, Longitud)  (ej.; \"1, Mercado Fluvial, Turismo, -39.81, -73.24\")\n",
    "\n",
    "- DESPLAZARSE(#pk_RUT, fecha, Latitud, Longitud)  (ej. \"1, 30/09/2018 12:00:00, -39, -70\")"
   ]
  },
  {
   "cell_type": "markdown",
   "metadata": {},
   "source": [
    "1) Implementar la estructura de esta base de datos en MySQL indicando las claves primarias y foraneas y los tipos de datos\n",
    "\n",
    "2) Insertar al menos 5 filas en cada tabla\n",
    "\n",
    "3) ¿A qué tipo de aplicación podría servir esta base de datos?"
   ]
  },
  {
   "cell_type": "code",
   "execution_count": null,
   "metadata": {},
   "outputs": [],
   "source": [
    "#1\n",
    "CREATE TABLE PERSONA (pk_RUT INT, nombre VARCHAR(30), edad INT, PRIMARY KEY (pk_RUT));\n",
    "CREATE TABLE LUGAR_DE_INTERES(pk_Lugar INT, Descripcion VARCHAR(50), Categoria VARCHAR(30), Latitud FLOAT, Longitud FLOAT, PRIMARY KEY (pk_Lugar));\n",
    "alter table LUGAR_DE_INTERES modify Latitud Float not null;\n",
    "alter table LUGAR_DE_INTERES modify Longitud Float not null;\n",
    "CREATE TABLE DESPLAZARSE(pk_RUT INT, fecha DATETIME(6), Latitud FLOAT, Longitud FLOAT, FOREIGN KEY (pk_RUT) REFERENCES PERSONA(pk_RUT));"
   ]
  },
  {
   "cell_type": "code",
   "execution_count": null,
   "metadata": {},
   "outputs": [],
   "source": [
    "#2\n",
    "INSERT INTO PERSONA(pk_RUT,nombre,edad) VALUES (1,\"JUAN\",20);\n",
    "INSERT INTO PERSONA(pk_RUT,nombre,edad) VALUES (2,\"MANUEL\",23);\n",
    "INSERT INTO PERSONA(pk_RUT,nombre,edad) VALUES (3,\"PATO\",22);\n",
    "INSERT INTO PERSONA(pk_RUT,nombre,edad) VALUES (4,\"NICOLAS\",22);\n",
    "INSERT INTO PERSONA(pk_RUT,nombre,edad) VALUES (5,\"VIEJO\",40);\n",
    "\n",
    "INSERT INTO LUGAR_DE_INTERES(pk_Lugar, Descripcion, Categoria, Latitud, Longitud) VALUES (1,\"Mercado Fluvial\",\"Turismo\",-39.81,-73.24);\n",
    "INSERT INTO LUGAR_DE_INTERES(pk_Lugar, Descripcion, Categoria, Latitud, Longitud) VALUES (2,\"Cancha Futbol\",\"Deportiva\",-49.81,-83.24);\n",
    "INSERT INTO LUGAR_DE_INTERES(pk_Lugar, Descripcion, Categoria, Latitud, Longitud) VALUES (3,\"Universidad\",\"EDUCACION\",-549.81,183.24);\n",
    "INSERT INTO LUGAR_DE_INTERES(pk_Lugar, Descripcion, Categoria, Latitud, Longitud) VALUES (4,\"Costanera\",\"Turismo\",-59.81,183.24);\n",
    "INSERT INTO LUGAR_DE_INTERES(pk_Lugar, Descripcion, Categoria, Latitud, Longitud) VALUES (5,\"Ricos helados\",\"Turismo\",-519.81,182.24);\n",
    "\n",
    "INSERT INTO DESPLAZARSE(pk_RUT, fecha, Latitud, Longitud) VALUES (1,'2018-09-30 12:00:00',-39,-70);\n",
    "INSERT INTO DESPLAZARSE(pk_RUT, fecha, Latitud, Longitud) VALUES (2,'2018-09-30 12:20:00',-49,-70);\n",
    "INSERT INTO DESPLAZARSE(pk_RUT, fecha, Latitud, Longitud) VALUES (3,'2018-09-30 12:30:00',-339,-70);\n",
    "INSERT INTO DESPLAZARSE(pk_RUT, fecha, Latitud, Longitud) VALUES (4,'2018-09-30 12:40:00',-395,-70);\n",
    "INSERT INTO DESPLAZARSE(pk_RUT, fecha, Latitud, Longitud) VALUES (5,'2018-09-30 12:50:00',-39,-710);\n"
   ]
  },
  {
   "cell_type": "markdown",
   "metadata": {},
   "source": [
    "#3 \n",
    "Esta aplicacion para hacer conocer lugares en valdivia.\n"
   ]
  },
  {
   "cell_type": "markdown",
   "metadata": {},
   "source": [
    "## Ejercicio 2: Realizar una copia de seguridad de una BD y exportar datos"
   ]
  },
  {
   "cell_type": "markdown",
   "metadata": {},
   "source": [
    "<a href=\"https://dev.mysql.com/doc/refman/8.0/en/backup-and-recovery.html\"> Backup and Recovery in MySQL</a>\n",
    "\n",
    "1) ¿Por qué hacer copias de seguridad de su base de datos?\n",
    "\n",
    "2) Utilizar el comando <code>Mysqldump</code> para realizar una copia de su base de datos. ¿Cuál es el <i>output</i> de este comando?\n",
    "\n",
    "3) En algunos casos, queremos simplemente exportar datos para poder utilizarlos en otros contextos. ¿En qué consiste el formato de datos CSV? ¿Cómo exportar datos al formato CSV desde MySQL? (ver: <a href=\"http://www.mysqltutorial.org/mysql-export-table-to-csv/\">Tutorial</a>)"
   ]
  },
  {
   "cell_type": "markdown",
   "metadata": {},
   "source": [
    "# 1\n",
    "Es importante realizar una copia de seguridad en la base de datos, puesto que un claro ejemplo es la perdida de una gran cantidad de datos los cuales en una base de datos de una pagina web podria causar varios problemas. Una forma de guardarlos seria en discos externos. "
   ]
  },
  {
   "cell_type": "markdown",
   "metadata": {},
   "source": [
    "# 2\n",
    "mysqldump -u root -p Valdivia | gzip > Respaldo_Valdivia.sql.gz #zip\n",
    "mysqldump -u root -p Valdivia > Respaldo_Valdivia.sql #solo archivo \n",
    "\n",
    "#como output da un archivo comprimido de mi base de datos."
   ]
  },
  {
   "cell_type": "markdown",
   "metadata": {},
   "source": [
    "# 3\n",
    "Es un formato para representar datos de forma sencilla similar a una tabla donde las columnas se separan por punto y coma(;) y las filas por saltos de linea."
   ]
  },
  {
   "cell_type": "markdown",
   "metadata": {},
   "source": [
    "## Ejercicio 3: Gestionar usuarios y privilegios de lectura y escritura\n",
    "\n",
    "En la configuración por defecto de MySQL, existe un sólo usuario, llamado 'root', lo cual tiene todos los derechos. En término de seguridad es muy poco recomendable trabajar siempre con el usuario 'root' (en particular cuando se deja los passwords en el código o un archivo de parametros). \n",
    "\n",
    "1) ¿Cuáles son los tipos de privilegios en una base de datos relacional?\n",
    "\n",
    "2) Crear un nuevo usuario y darle todos los privilegios sobre la base de datos 'Valdivia'\n",
    "\n",
    "3) Crear un nuevo usuario, lo cual tendrá solamente acceso de lectura sobre la tabla Lugar_de_interes y Desplazarse"
   ]
  },
  {
   "cell_type": "markdown",
   "metadata": {},
   "source": [
    "# 1\n",
    "Privilegios administrativos los cuales permiten al usuario manejar globalmente cualquier operación en MySQL server, es decir para cualquier base de datos.\n",
    "Privilegios de una base de datos específica y sus objetos incluidos.\n",
    "Privilegios para algún objeto específico dentro de una DB, por ejemplo una tabla en particular."
   ]
  },
  {
   "cell_type": "markdown",
   "metadata": {},
   "source": [
    "# 2\n",
    "### Creo el usuario tomy y la clave tomy\n",
    "\n",
    "CREATE USER 'tomy'@'localhost' IDENTIFIED BY 'tomy';\n",
    "\n",
    "### y le doy privilegio total a la base de datos Valdivia\n",
    "\n",
    "GRANT ALL PRIVILEGES ON Valdivia TO 'tomy'@'localhost';"
   ]
  },
  {
   "cell_type": "markdown",
   "metadata": {},
   "source": [
    "# 3\n",
    "\n",
    "#### Creo usuario nic\n",
    "CREATE USER 'nic'@'localhost' IDENTIFIED BY 'nic';\n",
    "\n",
    "#### Le dio privilegio de lectura de la tabla desplazarse y Lugar de interes\n",
    "GRANT SELECT ON Valdivia.DESPLAZARSE TO 'nic'@'localhost';\n",
    "\n",
    "GRANT SELECT ON Valdivia.LUGAR_DE_INTERES TO 'nic'@'localhost';\n",
    "\n",
    "\n"
   ]
  },
  {
   "cell_type": "markdown",
   "metadata": {},
   "source": [
    "## Ejercicio 4: Modificar la estructura de una Base de Datos\n",
    "\n",
    "Supongamos que queremos modificar la estructura de la base de datos 'Valdivia'. \n",
    "\n",
    "1) Modificar la BD (sin borrarla) para agregar un campo 'nivel de estudio' en la tabla 'Persona'.\n",
    "\n",
    "2) Modificar la BD (sin borrarla) para dejar la posibilidad de tener varias categorías para describir un lugar de interés (implica crear una tabla adicional)\n",
    "\n",
    "3) Agregar una restricción para que las columnas \"Latitud\" y \"Longitud\" nuncan sean NULL"
   ]
  },
  {
   "cell_type": "markdown",
   "metadata": {},
   "source": [
    "# 1\n",
    "\n",
    "ALTER TABLE PERSONA ADD(NIVEL_DE_ESTUDIO VARCHAR(30));"
   ]
  },
  {
   "cell_type": "markdown",
   "metadata": {},
   "source": [
    "# 2\n",
    "\n",
    "#### Eliminaria de la tabla lugar de interes la columna categoria.\n",
    "ALTER TABLE LUGAR_DE_INTERES DROP COLUMN Categoria;\n",
    "\n",
    "#### Se creara una tabla nueva llamada categoria la cual tendra una clave foranea que vincula a lugar de interes.\n",
    "CREATE TABLE CATEGORIA (pk_Lugar INT, CAT VARCHAR(30), FOREIGN KEY (pk_Lugar) REFERENCES LUGAR_DE_INTERES(pk_Lugar));\n"
   ]
  },
  {
   "cell_type": "markdown",
   "metadata": {},
   "source": [
    "# 3\n",
    "#### Se modifica.\n",
    "alter table LUGAR_DE_INTERES modify Latitud Float not null;\n",
    "alter table LUGAR_DE_INTERES modify Longitud Float not null;\n",
    "alter table DESPLAZARSE modify Longitud Float not null;\n",
    "alter table DESPLAZARSE modify Latitud Float not null;"
   ]
  },
  {
   "cell_type": "markdown",
   "metadata": {},
   "source": [
    "## Ejercicio 5 (opcional): Innovación para Valdivia - Smart City\n",
    "\n",
    "1) Revisar el concurso \"Desafio Smart City\": https://www.innoving.cl/smartcity\n",
    "\n",
    "2) Considerando que la empresa Telefonica del Sur podría darle acceso a ciertos datos telefónicos de la Ciudad, imaginar un escenario de innovación basado sobre una base de datos similar a aquella que creamos."
   ]
  },
  {
   "cell_type": "markdown",
   "metadata": {},
   "source": [
    "#### Este fue un trabajo realizado en conjunto durante la clase."
   ]
  },
  {
   "cell_type": "code",
   "execution_count": null,
   "metadata": {},
   "outputs": [],
   "source": []
  }
 ],
 "metadata": {
  "kernelspec": {
   "display_name": "Python 3",
   "language": "python",
   "name": "python3"
  },
  "language_info": {
   "codemirror_mode": {
    "name": "ipython",
    "version": 3
   },
   "file_extension": ".py",
   "mimetype": "text/x-python",
   "name": "python",
   "nbconvert_exporter": "python",
   "pygments_lexer": "ipython3",
   "version": "3.6.7"
  }
 },
 "nbformat": 4,
 "nbformat_minor": 2
}
