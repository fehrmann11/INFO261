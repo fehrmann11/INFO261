{
 "cells": [
  {
   "cell_type": "code",
   "execution_count": 1,
   "metadata": {},
   "outputs": [],
   "source": [
    "import warnings\n",
    "warnings.filterwarnings('ignore')"
   ]
  },
  {
   "cell_type": "markdown",
   "metadata": {},
   "source": [
    "# Notebook 8 - Utilizar datos para construir modelos predictivos"
   ]
  },
  {
   "cell_type": "markdown",
   "metadata": {},
   "source": [
    "Las Bases de Datos sirven en general en 2 grandes tipos de caso de uso:\n",
    "- soportar necesidades de los softwares que requieren <b>gestionar transacciónes</b> (ACID, grandes números de transacciónes rápidas) para su funcionamiento.\n",
    "- ofrecer a científicos o analistas conjuntos de datos sobre los cuáles <b>realizar análisis</b> y extraer nuevos conocimientos.\n",
    "\n",
    "En este notebook, queremos mostrar cómo se puede utilizar datos para realizar <b>análisis predictivo</b>. No es un curso completo sobre Machine Learning, sino que queremos ilustrar el interés de utilizar datos para la toma de decisiones."
   ]
  },
  {
   "cell_type": "markdown",
   "metadata": {},
   "source": [
    "## 1. ¿Qué es el análisis predictivo?\n",
    "\n",
    "- variedad de técnicas estadísticas, machine learning, minería de datos\n",
    "\n",
    "- analizar los datos del presente o del pasado para hacer predicciones sobre eventos posibles en el futuro\n",
    "\n",
    "- gran número de aplicaciones: Industria, Economía, Salud, Marketing, Seguro, Ciencia, etc.\n",
    "\n",
    "- se diferencia del análisis descriptivo, la cual busca entender un fenómeno complejo explicando las relaciones entre los datos"
   ]
  },
  {
   "cell_type": "markdown",
   "metadata": {},
   "source": [
    "## 2. Ejemplos de análisis predictivo\n",
    "\n",
    "Aplicaciones con objetivos comerciales o científicos/humanistas\n",
    "\n",
    "- predecir si una persona podría comprar uno de nuestos productos (Marketing)\n",
    "\n",
    "- predecir si una persona va a tener una enfermedad (Salud, Seguro)\n",
    "\n",
    "- predecir si una pieza mecánica va a fallar (Industria), etc.\n",
    "\n",
    "- predecir si un accidente puede occurir en cierto lugar\n",
    "\n",
    "- predecir si el discurso de un medio contiene marcas de sexismo o de racismo\n",
    "\n",
    "- etc.\n"
   ]
  },
  {
   "cell_type": "markdown",
   "metadata": {},
   "source": [
    "## 3. ¿Qué variable se puede predecir con técnicas de Machine Learning y cómo?\n",
    "\n",
    "Con técnicas de Machine Learning, se puede tratar de predecir:\n",
    "\n",
    "- el valor de una <b>variable discreta</b> (problema de clasificación). Ej: Entre la pelicula A y B, ¿cuál es su favorita? --> Predicción: B\n",
    "\n",
    "- el valor de una <b>variable continua</b> (problema de regresión). Ej. ¿Cuánta plata va a gastar esta persona para ir al Cinema durante el próximo semestre? --> Predicción: $25.500\n",
    "\n",
    "Para resolver problemas de clasificación o de regresión, se necesitan seguir 3 etapas:\n",
    "1. obtener un dataset de entrenamiento sobre datos del presente y pasado\n",
    "2. utilizar un algoritmo de aprendizaje que permite aprender un modelo predictivo\n",
    "3. utilizar un dataset de test para probar el modelo predictivo y medir su rendimiento\n",
    "\n",
    "A continuación presentamos 3 casos de estudio (2 de clasificación y 1 de regresión) simples para introducir cómo utilizar datos para construir modelos predictivos.\n"
   ]
  },
  {
   "cell_type": "markdown",
   "metadata": {},
   "source": [
    "## 4.  Caso de estudio: predecir la categoría de una flor\n",
    "\n",
    "Supongamos que tenemos una base de datos que almacena observaciones pasadas sobre 3 categorías de flores: 1) Iris Setosa, 2) Iris Versicolour, 3) Iris Virginica.\n",
    "\n",
    "Por cada observación, almacenamos los valores de 4 atributos: el <b>largo y el ancho de sus sepalos</b>, y el <b>largo y el ancho de sus petalos</b>, en centimetros.\n",
    "\n",
    "<img src=\"iris.jpg\"></img>\n",
    "\n",
    "Queremos aprender un modelo predictivo capaz de clasificar automáticamente una nueva flor. \n",
    "\n",
    "\n",
    "### 4.1 Obtención del dataset de entrenamiento y del dataset de test"
   ]
  },
  {
   "cell_type": "markdown",
   "metadata": {},
   "source": [
    "'Iris' es un dataset bien conocido por los <i>data scientists junior</i>, permite descubrir primeros conceptos básicos de Machine Learning con un dataset simple. Más detalles sobre el dataset: https://en.wikipedia.org/wiki/Iris_flower_data_set\n",
    "\n",
    "SciKit-Learn es una librería científica en Python para utilizar algoritmos estandares de Machine Learning: https://scikit-learn.org/stable/index.html.\n",
    "En su API, SciKit-Learn ofrece un método para cargar facilmente los datos del dataset Iris."
   ]
  },
  {
   "cell_type": "code",
   "execution_count": 1,
   "metadata": {},
   "outputs": [],
   "source": [
    "from sklearn import datasets\n",
    "iris = datasets.load_iris()"
   ]
  },
  {
   "cell_type": "markdown",
   "metadata": {},
   "source": [
    "El dataset Iris contiene 150 observaciones de flores."
   ]
  },
  {
   "cell_type": "code",
   "execution_count": 3,
   "metadata": {
    "scrolled": true
   },
   "outputs": [
    {
     "data": {
      "text/plain": [
       "150"
      ]
     },
     "execution_count": 3,
     "metadata": {},
     "output_type": "execute_result"
    }
   ],
   "source": [
    "len(iris.data)"
   ]
  },
  {
   "cell_type": "code",
   "execution_count": 4,
   "metadata": {},
   "outputs": [
    {
     "data": {
      "text/plain": [
       "array([[5.1, 3.5, 1.4, 0.2],\n",
       "       [4.9, 3. , 1.4, 0.2],\n",
       "       [4.7, 3.2, 1.3, 0.2],\n",
       "       [4.6, 3.1, 1.5, 0.2],\n",
       "       [5. , 3.6, 1.4, 0.2],\n",
       "       [5.4, 3.9, 1.7, 0.4],\n",
       "       [4.6, 3.4, 1.4, 0.3],\n",
       "       [5. , 3.4, 1.5, 0.2],\n",
       "       [4.4, 2.9, 1.4, 0.2],\n",
       "       [4.9, 3.1, 1.5, 0.1],\n",
       "       [5.4, 3.7, 1.5, 0.2],\n",
       "       [4.8, 3.4, 1.6, 0.2],\n",
       "       [4.8, 3. , 1.4, 0.1],\n",
       "       [4.3, 3. , 1.1, 0.1],\n",
       "       [5.8, 4. , 1.2, 0.2],\n",
       "       [5.7, 4.4, 1.5, 0.4],\n",
       "       [5.4, 3.9, 1.3, 0.4],\n",
       "       [5.1, 3.5, 1.4, 0.3],\n",
       "       [5.7, 3.8, 1.7, 0.3],\n",
       "       [5.1, 3.8, 1.5, 0.3],\n",
       "       [5.4, 3.4, 1.7, 0.2],\n",
       "       [5.1, 3.7, 1.5, 0.4],\n",
       "       [4.6, 3.6, 1. , 0.2],\n",
       "       [5.1, 3.3, 1.7, 0.5],\n",
       "       [4.8, 3.4, 1.9, 0.2],\n",
       "       [5. , 3. , 1.6, 0.2],\n",
       "       [5. , 3.4, 1.6, 0.4],\n",
       "       [5.2, 3.5, 1.5, 0.2],\n",
       "       [5.2, 3.4, 1.4, 0.2],\n",
       "       [4.7, 3.2, 1.6, 0.2],\n",
       "       [4.8, 3.1, 1.6, 0.2],\n",
       "       [5.4, 3.4, 1.5, 0.4],\n",
       "       [5.2, 4.1, 1.5, 0.1],\n",
       "       [5.5, 4.2, 1.4, 0.2],\n",
       "       [4.9, 3.1, 1.5, 0.2],\n",
       "       [5. , 3.2, 1.2, 0.2],\n",
       "       [5.5, 3.5, 1.3, 0.2],\n",
       "       [4.9, 3.6, 1.4, 0.1],\n",
       "       [4.4, 3. , 1.3, 0.2],\n",
       "       [5.1, 3.4, 1.5, 0.2],\n",
       "       [5. , 3.5, 1.3, 0.3],\n",
       "       [4.5, 2.3, 1.3, 0.3],\n",
       "       [4.4, 3.2, 1.3, 0.2],\n",
       "       [5. , 3.5, 1.6, 0.6],\n",
       "       [5.1, 3.8, 1.9, 0.4],\n",
       "       [4.8, 3. , 1.4, 0.3],\n",
       "       [5.1, 3.8, 1.6, 0.2],\n",
       "       [4.6, 3.2, 1.4, 0.2],\n",
       "       [5.3, 3.7, 1.5, 0.2],\n",
       "       [5. , 3.3, 1.4, 0.2],\n",
       "       [7. , 3.2, 4.7, 1.4],\n",
       "       [6.4, 3.2, 4.5, 1.5],\n",
       "       [6.9, 3.1, 4.9, 1.5],\n",
       "       [5.5, 2.3, 4. , 1.3],\n",
       "       [6.5, 2.8, 4.6, 1.5],\n",
       "       [5.7, 2.8, 4.5, 1.3],\n",
       "       [6.3, 3.3, 4.7, 1.6],\n",
       "       [4.9, 2.4, 3.3, 1. ],\n",
       "       [6.6, 2.9, 4.6, 1.3],\n",
       "       [5.2, 2.7, 3.9, 1.4],\n",
       "       [5. , 2. , 3.5, 1. ],\n",
       "       [5.9, 3. , 4.2, 1.5],\n",
       "       [6. , 2.2, 4. , 1. ],\n",
       "       [6.1, 2.9, 4.7, 1.4],\n",
       "       [5.6, 2.9, 3.6, 1.3],\n",
       "       [6.7, 3.1, 4.4, 1.4],\n",
       "       [5.6, 3. , 4.5, 1.5],\n",
       "       [5.8, 2.7, 4.1, 1. ],\n",
       "       [6.2, 2.2, 4.5, 1.5],\n",
       "       [5.6, 2.5, 3.9, 1.1],\n",
       "       [5.9, 3.2, 4.8, 1.8],\n",
       "       [6.1, 2.8, 4. , 1.3],\n",
       "       [6.3, 2.5, 4.9, 1.5],\n",
       "       [6.1, 2.8, 4.7, 1.2],\n",
       "       [6.4, 2.9, 4.3, 1.3],\n",
       "       [6.6, 3. , 4.4, 1.4],\n",
       "       [6.8, 2.8, 4.8, 1.4],\n",
       "       [6.7, 3. , 5. , 1.7],\n",
       "       [6. , 2.9, 4.5, 1.5],\n",
       "       [5.7, 2.6, 3.5, 1. ],\n",
       "       [5.5, 2.4, 3.8, 1.1],\n",
       "       [5.5, 2.4, 3.7, 1. ],\n",
       "       [5.8, 2.7, 3.9, 1.2],\n",
       "       [6. , 2.7, 5.1, 1.6],\n",
       "       [5.4, 3. , 4.5, 1.5],\n",
       "       [6. , 3.4, 4.5, 1.6],\n",
       "       [6.7, 3.1, 4.7, 1.5],\n",
       "       [6.3, 2.3, 4.4, 1.3],\n",
       "       [5.6, 3. , 4.1, 1.3],\n",
       "       [5.5, 2.5, 4. , 1.3],\n",
       "       [5.5, 2.6, 4.4, 1.2],\n",
       "       [6.1, 3. , 4.6, 1.4],\n",
       "       [5.8, 2.6, 4. , 1.2],\n",
       "       [5. , 2.3, 3.3, 1. ],\n",
       "       [5.6, 2.7, 4.2, 1.3],\n",
       "       [5.7, 3. , 4.2, 1.2],\n",
       "       [5.7, 2.9, 4.2, 1.3],\n",
       "       [6.2, 2.9, 4.3, 1.3],\n",
       "       [5.1, 2.5, 3. , 1.1],\n",
       "       [5.7, 2.8, 4.1, 1.3],\n",
       "       [6.3, 3.3, 6. , 2.5],\n",
       "       [5.8, 2.7, 5.1, 1.9],\n",
       "       [7.1, 3. , 5.9, 2.1],\n",
       "       [6.3, 2.9, 5.6, 1.8],\n",
       "       [6.5, 3. , 5.8, 2.2],\n",
       "       [7.6, 3. , 6.6, 2.1],\n",
       "       [4.9, 2.5, 4.5, 1.7],\n",
       "       [7.3, 2.9, 6.3, 1.8],\n",
       "       [6.7, 2.5, 5.8, 1.8],\n",
       "       [7.2, 3.6, 6.1, 2.5],\n",
       "       [6.5, 3.2, 5.1, 2. ],\n",
       "       [6.4, 2.7, 5.3, 1.9],\n",
       "       [6.8, 3. , 5.5, 2.1],\n",
       "       [5.7, 2.5, 5. , 2. ],\n",
       "       [5.8, 2.8, 5.1, 2.4],\n",
       "       [6.4, 3.2, 5.3, 2.3],\n",
       "       [6.5, 3. , 5.5, 1.8],\n",
       "       [7.7, 3.8, 6.7, 2.2],\n",
       "       [7.7, 2.6, 6.9, 2.3],\n",
       "       [6. , 2.2, 5. , 1.5],\n",
       "       [6.9, 3.2, 5.7, 2.3],\n",
       "       [5.6, 2.8, 4.9, 2. ],\n",
       "       [7.7, 2.8, 6.7, 2. ],\n",
       "       [6.3, 2.7, 4.9, 1.8],\n",
       "       [6.7, 3.3, 5.7, 2.1],\n",
       "       [7.2, 3.2, 6. , 1.8],\n",
       "       [6.2, 2.8, 4.8, 1.8],\n",
       "       [6.1, 3. , 4.9, 1.8],\n",
       "       [6.4, 2.8, 5.6, 2.1],\n",
       "       [7.2, 3. , 5.8, 1.6],\n",
       "       [7.4, 2.8, 6.1, 1.9],\n",
       "       [7.9, 3.8, 6.4, 2. ],\n",
       "       [6.4, 2.8, 5.6, 2.2],\n",
       "       [6.3, 2.8, 5.1, 1.5],\n",
       "       [6.1, 2.6, 5.6, 1.4],\n",
       "       [7.7, 3. , 6.1, 2.3],\n",
       "       [6.3, 3.4, 5.6, 2.4],\n",
       "       [6.4, 3.1, 5.5, 1.8],\n",
       "       [6. , 3. , 4.8, 1.8],\n",
       "       [6.9, 3.1, 5.4, 2.1],\n",
       "       [6.7, 3.1, 5.6, 2.4],\n",
       "       [6.9, 3.1, 5.1, 2.3],\n",
       "       [5.8, 2.7, 5.1, 1.9],\n",
       "       [6.8, 3.2, 5.9, 2.3],\n",
       "       [6.7, 3.3, 5.7, 2.5],\n",
       "       [6.7, 3. , 5.2, 2.3],\n",
       "       [6.3, 2.5, 5. , 1.9],\n",
       "       [6.5, 3. , 5.2, 2. ],\n",
       "       [6.2, 3.4, 5.4, 2.3],\n",
       "       [5.9, 3. , 5.1, 1.8]])"
      ]
     },
     "execution_count": 4,
     "metadata": {},
     "output_type": "execute_result"
    }
   ],
   "source": [
    "#iris.target #(categorias)\n",
    "iris.data #(datos)"
   ]
  },
  {
   "cell_type": "markdown",
   "metadata": {},
   "source": [
    "Para facilitar la manipulación de los datos de Iris, cargamos los datos en una tabla 'DataFrame' del paquete Pandas."
   ]
  },
  {
   "cell_type": "code",
   "execution_count": 9,
   "metadata": {},
   "outputs": [
    {
     "data": {
      "text/html": [
       "<div>\n",
       "<style scoped>\n",
       "    .dataframe tbody tr th:only-of-type {\n",
       "        vertical-align: middle;\n",
       "    }\n",
       "\n",
       "    .dataframe tbody tr th {\n",
       "        vertical-align: top;\n",
       "    }\n",
       "\n",
       "    .dataframe thead th {\n",
       "        text-align: right;\n",
       "    }\n",
       "</style>\n",
       "<table border=\"1\" class=\"dataframe\">\n",
       "  <thead>\n",
       "    <tr style=\"text-align: right;\">\n",
       "      <th></th>\n",
       "      <th>sepal length (cm)</th>\n",
       "      <th>sepal width (cm)</th>\n",
       "      <th>petal length (cm)</th>\n",
       "      <th>petal width (cm)</th>\n",
       "    </tr>\n",
       "  </thead>\n",
       "  <tbody>\n",
       "    <tr>\n",
       "      <th>0</th>\n",
       "      <td>5.1</td>\n",
       "      <td>3.5</td>\n",
       "      <td>1.4</td>\n",
       "      <td>0.2</td>\n",
       "    </tr>\n",
       "    <tr>\n",
       "      <th>1</th>\n",
       "      <td>4.9</td>\n",
       "      <td>3.0</td>\n",
       "      <td>1.4</td>\n",
       "      <td>0.2</td>\n",
       "    </tr>\n",
       "    <tr>\n",
       "      <th>2</th>\n",
       "      <td>4.7</td>\n",
       "      <td>3.2</td>\n",
       "      <td>1.3</td>\n",
       "      <td>0.2</td>\n",
       "    </tr>\n",
       "    <tr>\n",
       "      <th>3</th>\n",
       "      <td>4.6</td>\n",
       "      <td>3.1</td>\n",
       "      <td>1.5</td>\n",
       "      <td>0.2</td>\n",
       "    </tr>\n",
       "    <tr>\n",
       "      <th>4</th>\n",
       "      <td>5.0</td>\n",
       "      <td>3.6</td>\n",
       "      <td>1.4</td>\n",
       "      <td>0.2</td>\n",
       "    </tr>\n",
       "  </tbody>\n",
       "</table>\n",
       "</div>"
      ],
      "text/plain": [
       "   sepal length (cm)  sepal width (cm)  petal length (cm)  petal width (cm)\n",
       "0                5.1               3.5                1.4               0.2\n",
       "1                4.9               3.0                1.4               0.2\n",
       "2                4.7               3.2                1.3               0.2\n",
       "3                4.6               3.1                1.5               0.2\n",
       "4                5.0               3.6                1.4               0.2"
      ]
     },
     "execution_count": 9,
     "metadata": {},
     "output_type": "execute_result"
    }
   ],
   "source": [
    "import numpy as np\n",
    "import pandas as pd\n",
    "data = pd.DataFrame(data=iris['data'],columns= iris['feature_names'])\n",
    "categories = pd.DataFrame(data=iris['target'],columns=['target'])\n",
    "#Mostrar los 5 primeros datos del dataset\n",
    "data[:5]"
   ]
  },
  {
   "cell_type": "markdown",
   "metadata": {},
   "source": [
    "Observamos que el dataset tiene 4 atributos + una columna (target) que indica la categoría de cada flor. Cada fila del dataset corresponde a una flor observada en el pasado."
   ]
  },
  {
   "cell_type": "code",
   "execution_count": 6,
   "metadata": {},
   "outputs": [
    {
     "data": {
      "text/html": [
       "<div>\n",
       "<style scoped>\n",
       "    .dataframe tbody tr th:only-of-type {\n",
       "        vertical-align: middle;\n",
       "    }\n",
       "\n",
       "    .dataframe tbody tr th {\n",
       "        vertical-align: top;\n",
       "    }\n",
       "\n",
       "    .dataframe thead th {\n",
       "        text-align: right;\n",
       "    }\n",
       "</style>\n",
       "<table border=\"1\" class=\"dataframe\">\n",
       "  <thead>\n",
       "    <tr style=\"text-align: right;\">\n",
       "      <th></th>\n",
       "      <th>target</th>\n",
       "    </tr>\n",
       "  </thead>\n",
       "  <tbody>\n",
       "    <tr>\n",
       "      <th>0</th>\n",
       "      <td>0</td>\n",
       "    </tr>\n",
       "    <tr>\n",
       "      <th>1</th>\n",
       "      <td>0</td>\n",
       "    </tr>\n",
       "    <tr>\n",
       "      <th>2</th>\n",
       "      <td>0</td>\n",
       "    </tr>\n",
       "    <tr>\n",
       "      <th>3</th>\n",
       "      <td>0</td>\n",
       "    </tr>\n",
       "    <tr>\n",
       "      <th>4</th>\n",
       "      <td>0</td>\n",
       "    </tr>\n",
       "  </tbody>\n",
       "</table>\n",
       "</div>"
      ],
      "text/plain": [
       "   target\n",
       "0       0\n",
       "1       0\n",
       "2       0\n",
       "3       0\n",
       "4       0"
      ]
     },
     "execution_count": 6,
     "metadata": {},
     "output_type": "execute_result"
    }
   ],
   "source": [
    "categories[:5]"
   ]
  },
  {
   "cell_type": "markdown",
   "metadata": {},
   "source": [
    "Vamos a dividir nuestro dataset en 2 partes:\n",
    "- una parte de 'entrenamiento' que va a servir para generar un modelo predictivo\n",
    "- una parte de 'test' que va a servir para evaluar el rendimiento del modelo predictivo\n",
    "\n",
    "La API de SciKit-Learn ofrece un metodo para dividir el dataset:"
   ]
  },
  {
   "cell_type": "code",
   "execution_count": 10,
   "metadata": {},
   "outputs": [
    {
     "name": "stdout",
     "output_type": "stream",
     "text": [
      "(105, 4) (105,)\n",
      "(45, 4) (45,)\n"
     ]
    }
   ],
   "source": [
    "from sklearn.model_selection import train_test_split\n",
    "# create training and testing vars\n",
    "X_train, X_test, y_train, y_test = train_test_split(iris['data'],iris['target'], test_size=0.3)\n",
    "print(X_train.shape, y_train.shape)\n",
    "print(X_test.shape, y_test.shape)"
   ]
  },
  {
   "cell_type": "markdown",
   "metadata": {},
   "source": [
    "Ahora tenemos 4 variables:\n",
    "- X_train: contiene los datos de entrenamiento\n",
    "- X_test: contiene los datos de test\n",
    "- y_train: contiene las categorias reales de las flores del dataset de entrenamiento\n",
    "- y_test: contiene las categorias reales de las flores del dataset de test"
   ]
  },
  {
   "cell_type": "code",
   "execution_count": 8,
   "metadata": {},
   "outputs": [
    {
     "data": {
      "text/plain": [
       "array([[5.4, 3.4, 1.5, 0.4],\n",
       "       [4.6, 3.2, 1.4, 0.2],\n",
       "       [6.1, 2.9, 4.7, 1.4]])"
      ]
     },
     "execution_count": 8,
     "metadata": {},
     "output_type": "execute_result"
    }
   ],
   "source": [
    "X_train[:3]"
   ]
  },
  {
   "cell_type": "markdown",
   "metadata": {},
   "source": [
    "### 4.2 Crear un modelo predictivo\n",
    "\n",
    "Ahora que nuestros datos están listos, vamos a utilizar un algoritmo que va a aprender un modelo predictivo. Existen varios tipos de algoritmos de aprendizaje para problemas de clasificación. Citamos en particular: Naive Bayes, Árbol de Decisión, k-Vecinos-más-cercanos, Regresión Logística, SVM, Redes Neuronales, etc.\n",
    "\n",
    "En este primer ejemplo, utilizaremos el algoritmo muy simple, k-Vecinos-más cercanos: \n"
   ]
  },
  {
   "cell_type": "code",
   "execution_count": 7,
   "metadata": {},
   "outputs": [],
   "source": [
    "from sklearn.neighbors import KNeighborsClassifier \n",
    "\n",
    "#Inicializamos el algoritmo k_Vecinos_más_cercano con un parametro de 4 vecinos.\n",
    "algo_knn = KNeighborsClassifier(n_neighbors=4)  "
   ]
  },
  {
   "cell_type": "markdown",
   "metadata": {},
   "source": [
    "Con SciKit-Learn, el aprendizaje de un modelo predictivo consiste una linea de código, utilizando el método <code>fit()</code>:"
   ]
  },
  {
   "cell_type": "code",
   "execution_count": 11,
   "metadata": {
    "scrolled": true
   },
   "outputs": [],
   "source": [
    "modelo_predictivo = algo_knn.fit(X_train, y_train)"
   ]
  },
  {
   "cell_type": "markdown",
   "metadata": {},
   "source": [
    "### 4.3 Utilizar el modelo predictivo para realizar predicciones\n",
    "\n",
    "Una vez que tenemos nuestro modelo predictivo. Lo utilizaremos ahora sobre los datos de test, para medir si es capaz de tomar buenas predicciones.\n",
    "\n",
    "Realizamos predicciones con el modelo:"
   ]
  },
  {
   "cell_type": "code",
   "execution_count": 12,
   "metadata": {},
   "outputs": [
    {
     "name": "stdout",
     "output_type": "stream",
     "text": [
      "0,0,2,2,1,1,0,2,1,0,0,1,1,2,1,0,1,0,1,0,2,1,2,2,1,2,1,0,2,2,2,0,0,2,2,0,1,0,1,1,0,2,1,0,1,"
     ]
    }
   ],
   "source": [
    "predicciones = modelo_predictivo.predict(X_test)\n",
    "for p in predicciones:\n",
    "    print(p,end=',')"
   ]
  },
  {
   "cell_type": "markdown",
   "metadata": {},
   "source": [
    "Comparamos con las categorias reales de las flores:"
   ]
  },
  {
   "cell_type": "code",
   "execution_count": 12,
   "metadata": {},
   "outputs": [
    {
     "name": "stdout",
     "output_type": "stream",
     "text": [
      "1,2,1,0,0,0,2,2,0,1,2,0,2,1,1,0,0,0,2,2,1,0,2,0,1,1,0,0,2,0,1,1,2,0,0,2,1,2,0,0,1,2,0,0,2,"
     ]
    }
   ],
   "source": [
    "for i in y_test:\n",
    "    print(i,end=',')"
   ]
  },
  {
   "cell_type": "markdown",
   "metadata": {},
   "source": [
    "Parece que nuestro modelo predictivo ha logrado realizar predicciones bastante correctas. Confirmamoslo con la API de SciKit-Learn:"
   ]
  },
  {
   "cell_type": "code",
   "execution_count": 13,
   "metadata": {},
   "outputs": [
    {
     "name": "stdout",
     "output_type": "stream",
     "text": [
      "[[15  0  0]\n",
      " [ 0 16  1]\n",
      " [ 0  0 13]]\n",
      "              precision    recall  f1-score   support\n",
      "\n",
      "           0       1.00      1.00      1.00        15\n",
      "           1       1.00      0.94      0.97        17\n",
      "           2       0.93      1.00      0.96        13\n",
      "\n",
      "   micro avg       0.98      0.98      0.98        45\n",
      "   macro avg       0.98      0.98      0.98        45\n",
      "weighted avg       0.98      0.98      0.98        45\n",
      "\n"
     ]
    }
   ],
   "source": [
    "from sklearn.metrics import classification_report, confusion_matrix  \n",
    "\n",
    "print(confusion_matrix(y_test, predicciones))  \n",
    "print(classification_report(y_test, predicciones)) "
   ]
  },
  {
   "cell_type": "markdown",
   "metadata": {},
   "source": [
    "Comparación de la tasa de error probando varios valores de K:"
   ]
  },
  {
   "cell_type": "code",
   "execution_count": 17,
   "metadata": {},
   "outputs": [],
   "source": [
    "error = []\n",
    "\n",
    "# Calculating error for K values between 1 and 40\n",
    "for i in range(1, 40):  \n",
    "    knn = KNeighborsClassifier(n_neighbors=i)\n",
    "    knn.fit(X_train, y_train)\n",
    "    pred_i = knn.predict(X_test)\n",
    "    error.append(np.mean(pred_i != y_test))"
   ]
  },
  {
   "cell_type": "code",
   "execution_count": 18,
   "metadata": {},
   "outputs": [
    {
     "data": {
      "text/plain": [
       "Text(0, 0.5, 'Mean Error')"
      ]
     },
     "execution_count": 18,
     "metadata": {},
     "output_type": "execute_result"
    },
    {
     "data": {
      "image/png": "[encoded data removed]",
      "text/plain": [
       "<Figure size 864x432 with 1 Axes>"
      ]
     },
     "metadata": {
      "needs_background": "light"
     },
     "output_type": "display_data"
    }
   ],
   "source": [
    "import matplotlib.pyplot as plt  \n",
    "\n",
    "plt.figure(figsize=(12, 6))  \n",
    "plt.plot(range(1, 40), error, color='red', linestyle='dashed', marker='o',  \n",
    "         markerfacecolor='blue', markersize=10)\n",
    "plt.title('Error Rate K Value')  \n",
    "plt.xlabel('K Value')  \n",
    "plt.ylabel('Mean Error') "
   ]
  },
  {
   "cell_type": "markdown",
   "metadata": {},
   "source": [
    "Podemos deducir que 3 o 7 serían mejores valores de K para tomar mejores predicciones:"
   ]
  },
  {
   "cell_type": "code",
   "execution_count": 19,
   "metadata": {},
   "outputs": [],
   "source": [
    "knn = KNeighborsClassifier(n_neighbors=7)\n",
    "knn.fit(X_train, y_train)\n",
    "pred_i = knn.predict(X_test)"
   ]
  },
  {
   "cell_type": "code",
   "execution_count": 20,
   "metadata": {},
   "outputs": [
    {
     "name": "stdout",
     "output_type": "stream",
     "text": [
      "[[15  0  0]\n",
      " [ 0 15  2]\n",
      " [ 0  0 13]]\n",
      "              precision    recall  f1-score   support\n",
      "\n",
      "           0       1.00      1.00      1.00        15\n",
      "           1       1.00      0.88      0.94        17\n",
      "           2       0.87      1.00      0.93        13\n",
      "\n",
      "   micro avg       0.96      0.96      0.96        45\n",
      "   macro avg       0.96      0.96      0.96        45\n",
      "weighted avg       0.96      0.96      0.96        45\n",
      "\n"
     ]
    }
   ],
   "source": [
    "print(confusion_matrix(y_test, pred_i))  \n",
    "print(classification_report(y_test, pred_i)) "
   ]
  },
  {
   "cell_type": "markdown",
   "metadata": {},
   "source": [
    "Felicitaciones han entrenado su primer algoritmo de Machine Learning, para aprender un modelo predictivo y resolver un problema de clasificación simple."
   ]
  },
  {
   "cell_type": "markdown",
   "metadata": {},
   "source": [
    "<b>Preguntas:</b>\n",
    "\n",
    "1) Reemplazar el algoritmo kNN por otro algoritmo existente en SciKit-Learn, por ejemplo: DecisionTree (Árbol de decisión) y Naive Bayes.\n",
    "\n",
    "2) Dibujar un esquema que representa las etapas para entrenar y evaluar un modelo predictivo\n",
    "\n",
    "3) Explicar los conceptos de Características (Features) y Clases (Classes)\n",
    "\n",
    "4) ¿En Machine Learning, las características tienen siempre que ser numéricas?"
   ]
  },
  {
   "cell_type": "code",
   "execution_count": 22,
   "metadata": {},
   "outputs": [
    {
     "name": "stdout",
     "output_type": "stream",
     "text": [
      "numero mal etiquetado de puntos de un total de  150 puntos : 6\n"
     ]
    }
   ],
   "source": [
    "#1 Naive Bayes Los parámetros iris.data y iris.target se estiman utilizando la máxima verosimilitud.\n",
    "from sklearn import datasets\n",
    "iris = datasets.load_iris()\n",
    "from sklearn.naive_bayes import GaussianNB\n",
    "gnb = GaussianNB()\n",
    "y_pred = gnb.fit(iris.data, iris.target).predict(iris.data)\n",
    "print(\"numero mal etiquetado de puntos de un total de  %d puntos : %d\"\n",
    "      % (iris.data.shape[0],(iris.target != y_pred).sum()))"
   ]
  },
  {
   "cell_type": "markdown",
   "metadata": {},
   "source": [
    "#2\n",
    "\n",
    "características de un individuo => modelo predictivo => puntaje predictivo"
   ]
  },
  {
   "cell_type": "markdown",
   "metadata": {},
   "source": [
    "#3\n",
    "\n",
    "La ingeniería de características es el proceso de utilizar el conocimiento de dominio de los datos para crear características que hacen que los algoritmos de aprendizaje automático funcionen. La ingeniería de características es fundamental para la aplicación del aprendizaje automático, y es a la vez difícil y costosa.\n",
    "Mientras que Clases permite contener una colección de datasets de diversos tipos que se utiliza en ArcGIS y se administra en una carpeta de archivos o una base de datos relacional."
   ]
  },
  {
   "cell_type": "markdown",
   "metadata": {},
   "source": [
    "#4\n",
    "\n",
    "Investigue y no encontre informacion fidedigna, eso si indage y me di cuenta que los ejemplos que hay en este notebook son todas numericas, como es el caso de ver el ancho de los petalos y sepalos, o el coste de una casa.\n",
    "\n"
   ]
  },
  {
   "cell_type": "markdown",
   "metadata": {},
   "source": [
    "## 5.  Caso de estudio: predecir la categoría de una imágen\n",
    "\n",
    "Supongamos ahora que tenemos un base de datos que contiene imagenes de digitos (entre 0 y 9) escritos a mano. Queremos aprender un modelo capaz de reconocer el digito escrito.\n",
    "\n",
    "<img src=\"digitos.png\"></img>\n",
    "\n",
    "<b>Pregunta:</b>\n",
    "- ¿El problema corresponde a un problema de clasificación o de regresión?\n",
    "\n",
    "De clasificacion, ya que es cuantitativo.\n",
    "\n",
    "Más detalles sobre el dataset: http://archive.ics.uci.edu/ml/datasets/Optical+Recognition+of+Handwritten+Digits\n",
    "\n",
    "SciKit-Learn ofrece un método para cargar una muestra de este dataset:"
   ]
  },
  {
   "cell_type": "code",
   "execution_count": 23,
   "metadata": {},
   "outputs": [
    {
     "data": {
      "text/plain": [
       "1797"
      ]
     },
     "execution_count": 23,
     "metadata": {},
     "output_type": "execute_result"
    }
   ],
   "source": [
    "from sklearn import datasets\n",
    "digits = datasets.load_digits()\n",
    "\n",
    "len(digits.data)"
   ]
  },
  {
   "cell_type": "markdown",
   "metadata": {},
   "source": [
    "El dataset contiene 1797 observaciones de digitos. Hay 10 clases y cada clase tiene ~180 ejemplos. Cada ejemplo consiste en una imagen de 8x8 pixeles\n",
    "\n",
    "Veamos por ejemplo una imagén del dataset:"
   ]
  },
  {
   "cell_type": "code",
   "execution_count": 24,
   "metadata": {},
   "outputs": [
    {
     "data": {
      "text/plain": [
       "<Figure size 432x288 with 0 Axes>"
      ]
     },
     "metadata": {},
     "output_type": "display_data"
    },
    {
     "data": {
      "image/png": "[encoded data removed]",
      "text/plain": [
       "<Figure size 288x288 with 1 Axes>"
      ]
     },
     "metadata": {
      "needs_background": "light"
     },
     "output_type": "display_data"
    }
   ],
   "source": [
    "import matplotlib.pyplot as plt \n",
    "plt.gray() \n",
    "plt.matshow(digits.images[14]) \n",
    "plt.show() "
   ]
  },
  {
   "cell_type": "markdown",
   "metadata": {},
   "source": [
    "Cada observación 64 características que corresponde a un valor númerica (entre 1 y 16) que marca el nivel de gris de un pixel."
   ]
  },
  {
   "cell_type": "code",
   "execution_count": 26,
   "metadata": {},
   "outputs": [
    {
     "data": {
      "text/plain": [
       "array([ 0.,  0.,  0.,  8., 15.,  1.,  0.,  0.,  0.,  0.,  1., 14., 13.,\n",
       "        1.,  1.,  0.,  0.,  0., 10., 15.,  3., 15., 11.,  0.,  0.,  7.,\n",
       "       16.,  7.,  1., 16.,  8.,  0.,  0.,  9., 16., 13., 14., 16.,  5.,\n",
       "        0.,  0.,  1., 10., 15., 16., 14.,  0.,  0.,  0.,  0.,  0.,  1.,\n",
       "       16., 10.,  0.,  0.,  0.,  0.,  0., 10., 15.,  4.,  0.,  0.])"
      ]
     },
     "execution_count": 26,
     "metadata": {},
     "output_type": "execute_result"
    }
   ],
   "source": [
    "digits.data[14]"
   ]
  },
  {
   "cell_type": "markdown",
   "metadata": {},
   "source": [
    "Seguiremos el mismo protocolo que en el caso de estudio anterior:\n",
    "\n",
    "1. dividir el dataset en 2 partes: entrenamiento y test\n",
    "\n",
    "2. entrenar un modelo predictivo\n",
    "\n",
    "3. evaluar el modelo comparando sus predicciones con las clases reales"
   ]
  },
  {
   "cell_type": "markdown",
   "metadata": {},
   "source": [
    "Empezamos con dividir el dataset en 2 partes:"
   ]
  },
  {
   "cell_type": "code",
   "execution_count": 27,
   "metadata": {},
   "outputs": [
    {
     "name": "stdout",
     "output_type": "stream",
     "text": [
      "(1257, 64) (1257,)\n",
      "(540, 64) (540,)\n"
     ]
    }
   ],
   "source": [
    "from sklearn.model_selection import train_test_split\n",
    "# create training and testing vars\n",
    "X_train, X_test, y_train, y_test = train_test_split(digits['data'],digits['target'], test_size=0.3)\n",
    "print(X_train.shape, y_train.shape)\n",
    "print(X_test.shape, y_test.shape)"
   ]
  },
  {
   "cell_type": "markdown",
   "metadata": {},
   "source": [
    "Entrenamos un modelo predictivo utilizando el algoritmo Árbol de Decisión:"
   ]
  },
  {
   "cell_type": "code",
   "execution_count": 28,
   "metadata": {},
   "outputs": [],
   "source": [
    "from sklearn import tree\n",
    "\n",
    "algo_arbol = tree.DecisionTreeClassifier()\n",
    "\n",
    "modelo = algo_arbol.fit(X_train, y_train)"
   ]
  },
  {
   "cell_type": "markdown",
   "metadata": {},
   "source": [
    "Luego, utilizamos el modelo para realizar predicciones:"
   ]
  },
  {
   "cell_type": "code",
   "execution_count": 29,
   "metadata": {},
   "outputs": [],
   "source": [
    "y_predicciones = modelo.predict(X_test)"
   ]
  },
  {
   "cell_type": "code",
   "execution_count": 30,
   "metadata": {},
   "outputs": [
    {
     "name": "stdout",
     "output_type": "stream",
     "text": [
      "3,6,0,9,7,4,1,3,9,0,9,2,0,2,9,7,0,6,9,0,5,7,7,4,1,7,4,2,8,7,6,6,4,8,3,4,9,8,2,2,7,4,6,6,3,3,0,4,6,9,0,6,8,6,5,0,9,5,8,3,0,3,2,1,7,5,4,3,9,1,5,4,0,5,8,2,2,5,3,1,2,8,6,3,6,2,1,8,2,1,3,0,8,3,2,5,3,7,3,5,1,2,0,1,0,0,6,9,5,5,1,7,0,6,2,9,4,4,9,0,0,7,3,7,2,0,3,8,1,7,4,6,5,1,3,0,3,9,8,4,5,3,1,7,2,5,0,3,7,7,6,0,0,2,1,3,4,8,4,5,3,5,2,7,1,7,1,6,0,4,7,2,5,1,3,0,0,9,2,1,4,6,9,1,9,0,3,7,9,6,1,1,3,5,4,1,6,1,7,9,3,7,6,0,9,1,5,6,1,5,5,8,6,3,2,2,2,2,8,7,3,4,3,8,8,3,5,4,0,9,3,0,6,6,4,7,3,6,3,9,5,1,1,0,4,3,7,4,7,1,0,2,3,0,6,3,6,9,8,1,4,7,6,8,7,3,5,6,0,8,6,7,3,2,4,0,2,5,7,3,9,7,0,9,6,5,9,1,3,2,5,8,6,8,9,9,0,0,2,4,9,7,4,8,2,9,2,1,5,6,1,2,6,7,6,1,7,4,7,4,9,5,8,1,1,5,1,8,4,4,1,1,6,9,9,9,6,6,9,1,0,2,2,5,7,6,8,1,5,8,7,0,5,8,6,8,1,2,2,1,5,9,4,8,5,0,9,6,0,4,6,6,1,7,4,5,4,3,2,5,1,1,5,7,1,1,8,6,0,5,1,5,0,1,2,9,9,9,1,8,6,1,3,0,1,6,1,6,8,2,5,7,3,7,4,8,3,5,4,7,0,9,4,0,4,0,0,8,1,4,4,4,2,4,6,7,8,7,4,1,9,5,9,2,3,3,1,4,8,0,7,6,0,3,4,6,3,8,5,4,9,1,3,9,6,8,2,2,6,3,8,4,2,6,8,5,2,0,8,5,5,8,7,0,7,8,0,8,3,1,4,4,1,5,8,8,1,5,4,4,3,7,2,1,5,0,3,0,8,2,0,6,0,9,7,9,9,5,3,6,0,4,4,1,3,5,8,2,7,8,4,8,5,6,4,2,9,2,9,0,"
     ]
    }
   ],
   "source": [
    "for p in y_predicciones:\n",
    "    print(p,end=',')"
   ]
  },
  {
   "cell_type": "code",
   "execution_count": 31,
   "metadata": {},
   "outputs": [
    {
     "name": "stdout",
     "output_type": "stream",
     "text": [
      "9,6,0,9,4,4,1,3,8,0,1,2,0,2,9,7,0,6,9,0,5,7,2,4,1,7,4,2,8,7,6,6,4,8,3,4,8,8,1,2,7,7,6,6,3,3,0,4,6,3,0,3,8,6,5,0,9,5,9,3,0,3,2,2,7,5,9,3,9,1,5,4,0,5,8,2,2,4,6,1,2,8,6,5,6,2,1,8,2,1,3,0,8,5,2,8,3,7,3,5,1,2,0,8,0,0,6,2,5,5,1,7,0,6,2,9,4,5,1,0,0,7,3,7,2,0,3,8,1,7,4,6,5,1,3,0,3,9,8,4,5,1,1,7,2,5,0,3,7,4,6,0,0,2,1,3,4,8,0,5,3,5,8,7,1,7,1,6,0,4,7,2,5,1,9,0,0,9,2,1,4,6,7,1,5,0,9,7,9,6,1,1,1,5,4,1,6,1,7,9,3,7,6,0,9,8,5,4,1,5,5,8,6,1,2,2,0,2,8,7,3,4,3,8,8,3,5,4,0,9,3,0,6,6,4,7,3,6,4,9,5,1,1,0,4,3,7,4,7,1,0,2,3,0,6,2,4,9,8,1,4,7,6,8,7,3,5,6,0,8,6,7,3,2,4,0,2,5,7,3,9,7,0,9,6,4,9,4,3,3,5,8,6,8,9,9,8,0,2,4,9,7,4,8,2,1,2,1,9,6,1,2,6,7,6,1,7,4,7,9,9,5,1,1,2,5,1,8,7,4,1,1,6,3,9,9,6,6,9,1,0,2,4,5,1,6,8,1,5,8,7,0,5,8,6,8,6,2,2,1,5,9,4,8,5,0,9,6,0,4,6,6,1,7,4,6,4,3,2,5,1,1,6,7,1,1,8,6,0,5,1,5,0,1,2,9,9,9,1,8,6,1,8,0,8,6,4,6,8,2,5,7,3,7,4,8,1,5,4,7,0,9,4,0,4,0,0,8,1,4,4,4,2,4,6,5,8,7,7,1,9,5,9,2,3,3,1,4,3,7,7,6,0,3,4,6,3,8,5,4,1,1,3,1,6,8,2,2,6,3,8,4,2,6,8,5,2,0,8,5,5,8,7,0,4,8,0,8,3,8,4,4,2,5,8,2,1,5,4,4,7,7,2,2,5,0,3,0,8,2,0,6,0,9,7,9,9,5,3,6,0,4,4,6,3,5,8,2,9,8,4,8,5,6,7,2,1,2,9,0,"
     ]
    }
   ],
   "source": [
    "for c in y_test:\n",
    "    print(c,end=',')"
   ]
  },
  {
   "cell_type": "code",
   "execution_count": 32,
   "metadata": {},
   "outputs": [
    {
     "name": "stdout",
     "output_type": "stream",
     "text": [
      "[[57  0  1  0  1  0  0  0  0  0]\n",
      " [ 0 50  1  4  0  0  0  1  1  6]\n",
      " [ 0  4 45  1  0  0  0  1  1  1]\n",
      " [ 0  0  1 41  0  0  1  0  1  2]\n",
      " [ 0  2  1  1 48  2  2  3  0  0]\n",
      " [ 0  0  0  2  1 47  0  1  0  1]\n",
      " [ 0  2  0  1  0  2 53  0  0  0]\n",
      " [ 1  0  0  1  4  0  0 43  0  1]\n",
      " [ 1  4  1  1  0  1  0  0 46  2]\n",
      " [ 0  0  0  3  2  1  0  1  1 36]]\n",
      "              precision    recall  f1-score   support\n",
      "\n",
      "           0       0.97      0.97      0.97        59\n",
      "           1       0.81      0.79      0.80        63\n",
      "           2       0.90      0.85      0.87        53\n",
      "           3       0.75      0.89      0.81        46\n",
      "           4       0.86      0.81      0.83        59\n",
      "           5       0.89      0.90      0.90        52\n",
      "           6       0.95      0.91      0.93        58\n",
      "           7       0.86      0.86      0.86        50\n",
      "           8       0.92      0.82      0.87        56\n",
      "           9       0.73      0.82      0.77        44\n",
      "\n",
      "   micro avg       0.86      0.86      0.86       540\n",
      "   macro avg       0.86      0.86      0.86       540\n",
      "weighted avg       0.87      0.86      0.86       540\n",
      "\n"
     ]
    }
   ],
   "source": [
    "print(confusion_matrix(y_test, y_predicciones))  \n",
    "print(classification_report(y_test, y_predicciones)) "
   ]
  },
  {
   "cell_type": "markdown",
   "metadata": {},
   "source": [
    "<b>Preguntas</b>\n",
    "- ¿Cuál es la diferencia entre Precision y Recall?\n",
    "\n",
    "La precisión es la fracción de todas las instancias relevantes dividido entre las instancias obtenidas.\n",
    "\n",
    "La recuperación es la fracción de instancias relevantes que se han obtenido sobre la cantidad total de instancias relevantes.\n",
    "\n",
    "\n",
    "- ¿Entre DecisionTree, Naive Bayes y Regresión Logistica, qué algoritmo permite obtener un mejor modelo predictivo?\n",
    "\n",
    "Depende de que queremos conseguir y los datos que disponemos."
   ]
  },
  {
   "cell_type": "markdown",
   "metadata": {},
   "source": [
    "## 6. Caso de estudio: predecir el precio de una casa\n",
    "\n",
    "Finalmente supongamos que queremos predecir el precio de una casa a partir de varias variables: el nivel de criminalidad en el barrio, la tasa de negocios en los alrededores, el número de habitaciones, etc.\n",
    "\n",
    "El dataset 'Boston' contiene datos sobre 506 casas de la ciudad de Boston: https://scikit-learn.org/stable/datasets/index.html#boston-dataset"
   ]
  },
  {
   "cell_type": "code",
   "execution_count": 33,
   "metadata": {},
   "outputs": [],
   "source": [
    "from sklearn import datasets\n",
    "boston = datasets.load_boston()"
   ]
  },
  {
   "cell_type": "markdown",
   "metadata": {},
   "source": [
    "Miramos cuales son los atributos del dataset: https://archive.ics.uci.edu/ml/machine-learning-databases/housing/housing.names"
   ]
  },
  {
   "cell_type": "code",
   "execution_count": 34,
   "metadata": {},
   "outputs": [
    {
     "data": {
      "text/html": [
       "<div>\n",
       "<style scoped>\n",
       "    .dataframe tbody tr th:only-of-type {\n",
       "        vertical-align: middle;\n",
       "    }\n",
       "\n",
       "    .dataframe tbody tr th {\n",
       "        vertical-align: top;\n",
       "    }\n",
       "\n",
       "    .dataframe thead th {\n",
       "        text-align: right;\n",
       "    }\n",
       "</style>\n",
       "<table border=\"1\" class=\"dataframe\">\n",
       "  <thead>\n",
       "    <tr style=\"text-align: right;\">\n",
       "      <th></th>\n",
       "      <th>CRIM</th>\n",
       "      <th>ZN</th>\n",
       "      <th>INDUS</th>\n",
       "      <th>CHAS</th>\n",
       "      <th>NOX</th>\n",
       "      <th>RM</th>\n",
       "      <th>AGE</th>\n",
       "      <th>DIS</th>\n",
       "      <th>RAD</th>\n",
       "      <th>TAX</th>\n",
       "      <th>PTRATIO</th>\n",
       "      <th>B</th>\n",
       "      <th>LSTAT</th>\n",
       "    </tr>\n",
       "  </thead>\n",
       "  <tbody>\n",
       "    <tr>\n",
       "      <th>0</th>\n",
       "      <td>0.00632</td>\n",
       "      <td>18.0</td>\n",
       "      <td>2.31</td>\n",
       "      <td>0.0</td>\n",
       "      <td>0.538</td>\n",
       "      <td>6.575</td>\n",
       "      <td>65.2</td>\n",
       "      <td>4.0900</td>\n",
       "      <td>1.0</td>\n",
       "      <td>296.0</td>\n",
       "      <td>15.3</td>\n",
       "      <td>396.90</td>\n",
       "      <td>4.98</td>\n",
       "    </tr>\n",
       "    <tr>\n",
       "      <th>1</th>\n",
       "      <td>0.02731</td>\n",
       "      <td>0.0</td>\n",
       "      <td>7.07</td>\n",
       "      <td>0.0</td>\n",
       "      <td>0.469</td>\n",
       "      <td>6.421</td>\n",
       "      <td>78.9</td>\n",
       "      <td>4.9671</td>\n",
       "      <td>2.0</td>\n",
       "      <td>242.0</td>\n",
       "      <td>17.8</td>\n",
       "      <td>396.90</td>\n",
       "      <td>9.14</td>\n",
       "    </tr>\n",
       "    <tr>\n",
       "      <th>2</th>\n",
       "      <td>0.02729</td>\n",
       "      <td>0.0</td>\n",
       "      <td>7.07</td>\n",
       "      <td>0.0</td>\n",
       "      <td>0.469</td>\n",
       "      <td>7.185</td>\n",
       "      <td>61.1</td>\n",
       "      <td>4.9671</td>\n",
       "      <td>2.0</td>\n",
       "      <td>242.0</td>\n",
       "      <td>17.8</td>\n",
       "      <td>392.83</td>\n",
       "      <td>4.03</td>\n",
       "    </tr>\n",
       "    <tr>\n",
       "      <th>3</th>\n",
       "      <td>0.03237</td>\n",
       "      <td>0.0</td>\n",
       "      <td>2.18</td>\n",
       "      <td>0.0</td>\n",
       "      <td>0.458</td>\n",
       "      <td>6.998</td>\n",
       "      <td>45.8</td>\n",
       "      <td>6.0622</td>\n",
       "      <td>3.0</td>\n",
       "      <td>222.0</td>\n",
       "      <td>18.7</td>\n",
       "      <td>394.63</td>\n",
       "      <td>2.94</td>\n",
       "    </tr>\n",
       "    <tr>\n",
       "      <th>4</th>\n",
       "      <td>0.06905</td>\n",
       "      <td>0.0</td>\n",
       "      <td>2.18</td>\n",
       "      <td>0.0</td>\n",
       "      <td>0.458</td>\n",
       "      <td>7.147</td>\n",
       "      <td>54.2</td>\n",
       "      <td>6.0622</td>\n",
       "      <td>3.0</td>\n",
       "      <td>222.0</td>\n",
       "      <td>18.7</td>\n",
       "      <td>396.90</td>\n",
       "      <td>5.33</td>\n",
       "    </tr>\n",
       "  </tbody>\n",
       "</table>\n",
       "</div>"
      ],
      "text/plain": [
       "      CRIM    ZN  INDUS  CHAS    NOX     RM   AGE     DIS  RAD    TAX  \\\n",
       "0  0.00632  18.0   2.31   0.0  0.538  6.575  65.2  4.0900  1.0  296.0   \n",
       "1  0.02731   0.0   7.07   0.0  0.469  6.421  78.9  4.9671  2.0  242.0   \n",
       "2  0.02729   0.0   7.07   0.0  0.469  7.185  61.1  4.9671  2.0  242.0   \n",
       "3  0.03237   0.0   2.18   0.0  0.458  6.998  45.8  6.0622  3.0  222.0   \n",
       "4  0.06905   0.0   2.18   0.0  0.458  7.147  54.2  6.0622  3.0  222.0   \n",
       "\n",
       "   PTRATIO       B  LSTAT  \n",
       "0     15.3  396.90   4.98  \n",
       "1     17.8  396.90   9.14  \n",
       "2     17.8  392.83   4.03  \n",
       "3     18.7  394.63   2.94  \n",
       "4     18.7  396.90   5.33  "
      ]
     },
     "execution_count": 34,
     "metadata": {},
     "output_type": "execute_result"
    }
   ],
   "source": [
    "import numpy as np\n",
    "import pandas as pd\n",
    "data = pd.DataFrame(data=boston['data'],columns= boston['feature_names'])\n",
    "prices = pd.DataFrame(data=boston['target'],columns=['target'])\n",
    "#Mostrar los 5 primeros datos del dataset\n",
    "data[:5]"
   ]
  },
  {
   "cell_type": "code",
   "execution_count": 35,
   "metadata": {},
   "outputs": [
    {
     "name": "stdout",
     "output_type": "stream",
     "text": [
      ".. _boston_dataset:\n",
      "\n",
      "Boston house prices dataset\n",
      "---------------------------\n",
      "\n",
      "**Data Set Characteristics:**  \n",
      "\n",
      "    :Number of Instances: 506 \n",
      "\n",
      "    :Number of Attributes: 13 numeric/categorical predictive. Median Value (attribute 14) is usually the target.\n",
      "\n",
      "    :Attribute Information (in order):\n",
      "        - CRIM     per capita crime rate by town\n",
      "        - ZN       proportion of residential land zoned for lots over 25,000 sq.ft.\n",
      "        - INDUS    proportion of non-retail business acres per town\n",
      "        - CHAS     Charles River dummy variable (= 1 if tract bounds river; 0 otherwise)\n",
      "        - NOX      nitric oxides concentration (parts per 10 million)\n",
      "        - RM       average number of rooms per dwelling\n",
      "        - AGE      proportion of owner-occupied units built prior to 1940\n",
      "        - DIS      weighted distances to five Boston employment centres\n",
      "        - RAD      index of accessibility to radial highways\n",
      "        - TAX      full-value property-tax rate per $10,000\n",
      "        - PTRATIO  pupil-teacher ratio by town\n",
      "        - B        1000(Bk - 0.63)^2 where Bk is the proportion of blacks by town\n",
      "        - LSTAT    % lower status of the population\n",
      "        - MEDV     Median value of owner-occupied homes in $1000's\n",
      "\n",
      "    :Missing Attribute Values: None\n",
      "\n",
      "    :Creator: Harrison, D. and Rubinfeld, D.L.\n",
      "\n",
      "This is a copy of UCI ML housing dataset.\n",
      "https://archive.ics.uci.edu/ml/machine-learning-databases/housing/\n",
      "\n",
      "\n",
      "This dataset was taken from the StatLib library which is maintained at Carnegie Mellon University.\n",
      "\n",
      "The Boston house-price data of Harrison, D. and Rubinfeld, D.L. 'Hedonic\n",
      "prices and the demand for clean air', J. Environ. Economics & Management,\n",
      "vol.5, 81-102, 1978.   Used in Belsley, Kuh & Welsch, 'Regression diagnostics\n",
      "...', Wiley, 1980.   N.B. Various transformations are used in the table on\n",
      "pages 244-261 of the latter.\n",
      "\n",
      "The Boston house-price data has been used in many machine learning papers that address regression\n",
      "problems.   \n",
      "     \n",
      ".. topic:: References\n",
      "\n",
      "   - Belsley, Kuh & Welsch, 'Regression diagnostics: Identifying Influential Data and Sources of Collinearity', Wiley, 1980. 244-261.\n",
      "   - Quinlan,R. (1993). Combining Instance-Based and Model-Based Learning. In Proceedings on the Tenth International Conference of Machine Learning, 236-243, University of Massachusetts, Amherst. Morgan Kaufmann.\n",
      "\n"
     ]
    }
   ],
   "source": [
    "print(boston.DESCR)"
   ]
  },
  {
   "cell_type": "markdown",
   "metadata": {},
   "source": [
    "Esta vez, la variable que predecir es una variable continua (en M$):"
   ]
  },
  {
   "cell_type": "code",
   "execution_count": 36,
   "metadata": {},
   "outputs": [
    {
     "data": {
      "text/html": [
       "<div>\n",
       "<style scoped>\n",
       "    .dataframe tbody tr th:only-of-type {\n",
       "        vertical-align: middle;\n",
       "    }\n",
       "\n",
       "    .dataframe tbody tr th {\n",
       "        vertical-align: top;\n",
       "    }\n",
       "\n",
       "    .dataframe thead th {\n",
       "        text-align: right;\n",
       "    }\n",
       "</style>\n",
       "<table border=\"1\" class=\"dataframe\">\n",
       "  <thead>\n",
       "    <tr style=\"text-align: right;\">\n",
       "      <th></th>\n",
       "      <th>target</th>\n",
       "    </tr>\n",
       "  </thead>\n",
       "  <tbody>\n",
       "    <tr>\n",
       "      <th>0</th>\n",
       "      <td>24.0</td>\n",
       "    </tr>\n",
       "    <tr>\n",
       "      <th>1</th>\n",
       "      <td>21.6</td>\n",
       "    </tr>\n",
       "    <tr>\n",
       "      <th>2</th>\n",
       "      <td>34.7</td>\n",
       "    </tr>\n",
       "    <tr>\n",
       "      <th>3</th>\n",
       "      <td>33.4</td>\n",
       "    </tr>\n",
       "    <tr>\n",
       "      <th>4</th>\n",
       "      <td>36.2</td>\n",
       "    </tr>\n",
       "  </tbody>\n",
       "</table>\n",
       "</div>"
      ],
      "text/plain": [
       "   target\n",
       "0    24.0\n",
       "1    21.6\n",
       "2    34.7\n",
       "3    33.4\n",
       "4    36.2"
      ]
     },
     "execution_count": 36,
     "metadata": {},
     "output_type": "execute_result"
    }
   ],
   "source": [
    "prices[:5]"
   ]
  },
  {
   "cell_type": "markdown",
   "metadata": {},
   "source": [
    "De la misma manera que antes, dividimos el dataset en 2 partes: entrenamiento y test."
   ]
  },
  {
   "cell_type": "code",
   "execution_count": 37,
   "metadata": {},
   "outputs": [
    {
     "name": "stdout",
     "output_type": "stream",
     "text": [
      "(354, 13) (354,)\n",
      "(152, 13) (152,)\n"
     ]
    }
   ],
   "source": [
    "from sklearn.model_selection import train_test_split\n",
    "# create training and testing vars\n",
    "X_train, X_test, y_train, y_test = train_test_split(boston['data'],boston['target'], test_size=0.3)\n",
    "print(X_train.shape, y_train.shape)\n",
    "print(X_test.shape, y_test.shape)"
   ]
  },
  {
   "cell_type": "markdown",
   "metadata": {},
   "source": [
    "Para problemas de regresión (predicción de una variable continua), un algoritmo a menudo utilizado es la <b>regresión lineal</b>.  la regresión lineal consiste en encontrar una recta, un plano o un hiperplano que aproxima la distribución de un conjunto de puntos. Detallamos esta idea a continuación con ejemplos e implementación en Python. "
   ]
  },
  {
   "cell_type": "code",
   "execution_count": 38,
   "metadata": {},
   "outputs": [
    {
     "data": {
      "text/plain": [
       "Text(0.5, 1.0, 'Prices vs Predicted prices: $Y_i$ vs $\\\\hat{Y}_i$')"
      ]
     },
     "execution_count": 38,
     "metadata": {},
     "output_type": "execute_result"
    },
    {
     "data": {
      "image/png": "[encoded data removed]",
      "text/plain": [
       "<Figure size 432x288 with 1 Axes>"
      ]
     },
     "metadata": {
      "needs_background": "light"
     },
     "output_type": "display_data"
    }
   ],
   "source": [
    "from sklearn.linear_model import LinearRegression\n",
    "\n",
    "#Creamos un modelo de regresión lineal a partir del dataset de entrenamiento\n",
    "lm = LinearRegression()\n",
    "modelo = lm.fit(X_train, y_train)\n",
    "\n",
    "#Utilizamos el modelo para hacer predicciones sobre el dataset de test\n",
    "y_pred = modelo.predict(X_test)\n",
    "\n",
    "\n",
    "#Comparamos las predicciones de precio y el precio real en un grafico.\n",
    "plt.scatter(y_test, y_pred)\n",
    "plt.xlabel(\"Prices: $Y_i$\")\n",
    "plt.ylabel(\"Predicted prices: $\\hat{Y}_i$\")\n",
    "plt.title(\"Prices vs Predicted prices: $Y_i$ vs $\\hat{Y}_i$\")"
   ]
  },
  {
   "cell_type": "markdown",
   "metadata": {},
   "source": [
    "Idealmente, la gráfica debería crear una recta. Como el modelo no se ajusta al 100%, el gráfico no está creando una recta perfecta.\n",
    "\n",
    "Para comprobar el nivel de error de un modelo, podemos medir el error al cuadrado (<b>Mean Squared Error (MSE)</b>). Es uno de los procedimientos para medir el promedio de los errores al cuadrado. Básicamente, comprobará la diferencia entre el valor real y el valor previsto. Para ()usarlo, podemos usar la función de error promedio al cuadrado de scikit-learn ejecutando este fragmento de código."
   ]
  },
  {
   "cell_type": "code",
   "execution_count": 39,
   "metadata": {},
   "outputs": [
    {
     "name": "stdout",
     "output_type": "stream",
     "text": [
      "26.225840745015955\n"
     ]
    }
   ],
   "source": [
    "import sklearn\n",
    "\n",
    "mse = sklearn.metrics.mean_squared_error(y_test, y_pred)\n",
    "print(mse)"
   ]
  },
  {
   "cell_type": "markdown",
   "metadata": {},
   "source": [
    "Como es un promedio de errores al cuadrado, podemos tambien calcular la raiz de este error para medir el error promedio. Esta metrica se llama <b>Root Mean Squared Error (RMSE)</b>:"
   ]
  },
  {
   "cell_type": "code",
   "execution_count": 43,
   "metadata": {},
   "outputs": [
    {
     "data": {
      "text/plain": [
       "5.121117138380644"
      ]
     },
     "execution_count": 43,
     "metadata": {},
     "output_type": "execute_result"
    }
   ],
   "source": [
    "import math \n",
    "\n",
    "math.sqrt(mse)"
   ]
  },
  {
   "cell_type": "markdown",
   "metadata": {},
   "source": [
    "En promedio, nuestro modelo logra predicir el precio de una casa con un error de 4.94 M$."
   ]
  },
  {
   "cell_type": "code",
   "execution_count": 44,
   "metadata": {},
   "outputs": [
    {
     "data": {
      "text/plain": [
       "{'copy_X': True, 'fit_intercept': True, 'n_jobs': None, 'normalize': False}"
      ]
     },
     "execution_count": 44,
     "metadata": {},
     "output_type": "execute_result"
    }
   ],
   "source": [
    "modelo.get_params()"
   ]
  },
  {
   "cell_type": "markdown",
   "metadata": {},
   "source": [
    "Lo que hace el algoritmo de regresión lineal es buscar los pesos asociados a las caracteristicas del problema para resolver una ecuación lineal de tipo:\n",
    "\n",
    "<b>y = b0 + b1X1 + b2X2 + ... + bnXn</b>\n",
    "\n",
    "En nuestro problema tenemos 13 atributos + el sesgo/intercept (b0). \n",
    "\n",
    "\n"
   ]
  },
  {
   "cell_type": "code",
   "execution_count": 45,
   "metadata": {},
   "outputs": [
    {
     "data": {
      "text/plain": [
       "array([-1.08908797e-01,  4.40610414e-02,  8.33689160e-02,  2.85497031e+00,\n",
       "       -1.81657030e+01,  4.01285326e+00,  1.80692853e-02, -1.24575328e+00,\n",
       "        3.31579152e-01, -1.22129848e-02, -1.06889474e+00,  8.35641295e-03,\n",
       "       -5.76483323e-01])"
      ]
     },
     "execution_count": 45,
     "metadata": {},
     "output_type": "execute_result"
    }
   ],
   "source": [
    "modelo.coef_"
   ]
  },
  {
   "cell_type": "code",
   "execution_count": 46,
   "metadata": {},
   "outputs": [
    {
     "data": {
      "text/plain": [
       "35.6765501429997"
      ]
     },
     "execution_count": 46,
     "metadata": {},
     "output_type": "execute_result"
    }
   ],
   "source": [
    "modelo.intercept_"
   ]
  },
  {
   "cell_type": "markdown",
   "metadata": {},
   "source": [
    "Por lo tanto, podemos re-escribir nuestra propia función de predicción de la siguiente manera:"
   ]
  },
  {
   "cell_type": "code",
   "execution_count": 47,
   "metadata": {},
   "outputs": [],
   "source": [
    "def predict_price_of_house(x1, x2, x3, x4, x5, x6, x7, x8, x9, x10, x11, x12, x13):\n",
    "    return 25.171365903265137 - 0.120255045 * x1 \n",
    "    + 0.0414724485 * x2 + 0.0182359951* x3 +  3.62945531*x4 - 17.1108207*x5 + 4.71432683*x6 \n",
    "    - 0.00923441403*x7 - 1.46178894*x8 + 0.0302822426*x9 - 0.0113899214*x10 \n",
    "    - 0.768059936*x11 + 0.0142606052*x12 - 0.492988421 *x13"
   ]
  },
  {
   "cell_type": "code",
   "execution_count": 48,
   "metadata": {},
   "outputs": [
    {
     "name": "stdout",
     "output_type": "stream",
     "text": [
      "¿Cuál es el precio probable de la casa siguiente?\n"
     ]
    },
    {
     "data": {
      "text/plain": [
       "25.163062292407886"
      ]
     },
     "execution_count": 48,
     "metadata": {},
     "output_type": "execute_result"
    }
   ],
   "source": [
    "print(\"¿Cuál es el precio probable de la casa siguiente?\")\n",
    "predict_price_of_house(0.06905,0.0,2.18,0.0,0.458,7.147,54.2,6.0622,3.0,222.0,18.7,396.90,5.33)"
   ]
  },
  {
   "cell_type": "markdown",
   "metadata": {},
   "source": [
    "<b>Pregunta</b>\n",
    "\n",
    "¿Cuáles son los precios que generan mayor impacto sobre el precio de una caso (según este dataset)?\n",
    "\n",
    "Los que estan en el rango de 25-35."
   ]
  },
  {
   "cell_type": "markdown",
   "metadata": {},
   "source": [
    "## Ejercicio\n",
    "\n",
    "Utilizando los datasets disponibles en Scikit-Learn (https://scikit-learn.org/stable/datasets/index.html), seguir un protocolo de Machine Learning para aprender un modelo predictivo. Utilizarán el dataset 'Wine' para resolver un problema de clasificación y 'diabetes' para resolver un problema de regresión."
   ]
  },
  {
   "cell_type": "code",
   "execution_count": 49,
   "metadata": {},
   "outputs": [],
   "source": [
    "from sklearn import datasets\n",
    "wine = datasets.load_wine()\n",
    "\n",
    "import numpy as np\n",
    "import pandas as pd\n",
    "data = pd.DataFrame(data=wine['data'],columns= wine['feature_names'])\n",
    "category = pd.DataFrame(data=wine['target'],columns=['target'])\n",
    "#Mostrar los 5 primeros datos del dataset\n",
    "#data[:5]\n",
    "#print(wine.DESCR)\n",
    "#categories[:5]\n",
    "from sklearn.model_selection import train_test_split\n",
    "# create training and testing vars\n",
    "X_train, X_test, y_train, y_test = train_test_split(wine['data'],wine['target'], test_size=0.3)\n",
    "#print(X_train.shape, y_train.shape)\n",
    "#print(X_test.shape, y_test.shape)"
   ]
  },
  {
   "cell_type": "code",
   "execution_count": 50,
   "metadata": {},
   "outputs": [
    {
     "name": "stdout",
     "output_type": "stream",
     "text": [
      "0,0,0,0,1,2,1,0,1,2,0,0,0,1,2,2,1,0,0,0,2,1,1,1,0,1,2,1,0,0,2,1,0,1,1,1,1,1,0,0,0,1,0,0,0,1,1,1,1,1,1,1,1,0,\n",
      "0,0,0,0,1,2,1,0,1,2,0,0,0,2,1,1,1,1,0,0,2,1,1,2,0,1,1,1,0,0,2,1,0,1,2,2,2,1,2,0,0,2,0,0,0,0,1,1,2,2,2,1,2,0,\n",
      "\n",
      "[[20  1  0]\n",
      " [ 1 14  3]\n",
      " [ 1 10  4]]\n",
      "              precision    recall  f1-score   support\n",
      "\n",
      "           0       0.91      0.95      0.93        21\n",
      "           1       0.56      0.78      0.65        18\n",
      "           2       0.57      0.27      0.36        15\n",
      "\n",
      "   micro avg       0.70      0.70      0.70        54\n",
      "   macro avg       0.68      0.67      0.65        54\n",
      "weighted avg       0.70      0.70      0.68        54\n",
      "\n"
     ]
    },
    {
     "data": {
      "text/plain": [
       "Text(0, 0.5, 'Mean Error')"
      ]
     },
     "execution_count": 50,
     "metadata": {},
     "output_type": "execute_result"
    },
    {
     "data": {
      "image/png": "[encoded data removed]",
      "text/plain": [
       "<Figure size 864x432 with 1 Axes>"
      ]
     },
     "metadata": {
      "needs_background": "light"
     },
     "output_type": "display_data"
    }
   ],
   "source": [
    "from sklearn.neighbors import KNeighborsClassifier \n",
    "\n",
    "#Inicializamos el algoritmo k_Vecinos_más_cercano con un parametro de 4 vecinos.\n",
    "algo_knn = KNeighborsClassifier(n_neighbors=7)  \n",
    "modelo_predictivo = algo_knn.fit(X_train, y_train)\n",
    "\n",
    "predicciones = modelo_predictivo.predict(X_test)\n",
    "for p in predicciones:\n",
    "    print(p,end=',')\n",
    "print('')\n",
    "for i in y_test:\n",
    "    print(i,end=',')\n",
    "print('')\n",
    "print('')\n",
    "    \n",
    "from sklearn.metrics import classification_report, confusion_matrix  \n",
    "\n",
    "print(confusion_matrix(y_test, predicciones))  \n",
    "print(classification_report(y_test, predicciones)) \n",
    "\n",
    "error = []\n",
    "\n",
    "# Calculating error for K values between 1 and 40\n",
    "for i in range(1, 40):  \n",
    "    knn = KNeighborsClassifier(n_neighbors=i)\n",
    "    knn.fit(X_train, y_train)\n",
    "    pred_i = knn.predict(X_test)\n",
    "    error.append(np.mean(pred_i != y_test))\n",
    "    \n",
    "import matplotlib.pyplot as plt  \n",
    "\n",
    "plt.figure(figsize=(12, 6))  \n",
    "plt.plot(range(1, 40), error, color='red', linestyle='dashed', marker='o',  \n",
    "         markerfacecolor='blue', markersize=10)\n",
    "plt.title('Error Rate K Value')  \n",
    "plt.xlabel('K Value')  \n",
    "plt.ylabel('Mean Error') "
   ]
  },
  {
   "cell_type": "code",
   "execution_count": 51,
   "metadata": {},
   "outputs": [
    {
     "name": "stdout",
     "output_type": "stream",
     "text": [
      "(354, 13) (354,)\n",
      "(152, 13) (152,)\n"
     ]
    }
   ],
   "source": [
    "from sklearn import datasets\n",
    "diabetes = datasets.load_diabetes()\n",
    "\n",
    "import numpy as np\n",
    "import pandas as pd\n",
    "data = pd.DataFrame(data=diabetes['data'],columns= diabetes['feature_names'])\n",
    "prices = pd.DataFrame(data=diabetes['target'],columns=['target'])\n",
    "#Mostrar los 5 primeros datos del dataset\n",
    "data[:5]\n",
    "\n",
    "\n",
    "#dividimos en dos .\n",
    "from sklearn.model_selection import train_test_split\n",
    "# create training and testing vars\n",
    "X_train, X_test, y_train, y_test = train_test_split(boston['data'],boston['target'], test_size=0.3)\n",
    "print(X_train.shape, y_train.shape)\n",
    "print(X_test.shape, y_test.shape)"
   ]
  },
  {
   "cell_type": "code",
   "execution_count": 52,
   "metadata": {},
   "outputs": [
    {
     "name": "stdout",
     "output_type": "stream",
     "text": [
      "26.76137580377113\n"
     ]
    },
    {
     "data": {
      "image/png": "[encoded data removed]",
      "text/plain": [
       "<Figure size 432x288 with 1 Axes>"
      ]
     },
     "metadata": {
      "needs_background": "light"
     },
     "output_type": "display_data"
    }
   ],
   "source": [
    "from sklearn.linear_model import LinearRegression\n",
    "\n",
    "#Creamos un modelo de regresión lineal a partir del dataset de entrenamiento\n",
    "lm = LinearRegression()\n",
    "modelo = lm.fit(X_train, y_train)\n",
    "\n",
    "#Utilizamos el modelo para hacer predicciones sobre el dataset de test\n",
    "y_pred = modelo.predict(X_test)\n",
    "\n",
    "\n",
    "#Comparamos las predicciones de precio y el precio real en un grafico.\n",
    "plt.scatter(y_test, y_pred)\n",
    "plt.xlabel(\"Prices: $Y_i$\")\n",
    "plt.ylabel(\"Predicted prices: $\\hat{Y}_i$\")\n",
    "plt.title(\"Prices vs Predicted prices: $Y_i$ vs $\\hat{Y}_i$\")\n",
    "\n",
    "#predicion\n",
    "import sklearn\n",
    "\n",
    "mse = sklearn.metrics.mean_squared_error(y_test, y_pred)\n",
    "print(mse)"
   ]
  }
 ],
 "metadata": {
  "kernelspec": {
   "display_name": "Python 3",
   "language": "python",
   "name": "python3"
  },
  "language_info": {
   "codemirror_mode": {
    "name": "ipython",
    "version": 3
   },
   "file_extension": ".py",
   "mimetype": "text/x-python",
   "name": "python",
   "nbconvert_exporter": "python",
   "pygments_lexer": "ipython3",
   "version": "3.5.2"
  }
 },
 "nbformat": 4,
 "nbformat_minor": 2
}
